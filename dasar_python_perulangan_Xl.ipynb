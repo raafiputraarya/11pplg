{
  "nbformat": 4,
  "nbformat_minor": 0,
  "metadata": {
    "colab": {
      "provenance": [],
      "authorship_tag": "ABX9TyNGDBDdy/m4EfPIAubAvzGI",
      "include_colab_link": true
    },
    "kernelspec": {
      "name": "python3",
      "display_name": "Python 3"
    },
    "language_info": {
      "name": "python"
    }
  },
  "cells": [
    {
      "cell_type": "markdown",
      "metadata": {
        "id": "view-in-github",
        "colab_type": "text"
      },
      "source": [
        "<a href=\"https://colab.research.google.com/github/raafiputraarya/11pplg/blob/main/dasar_python_perulangan_Xl.ipynb\" target=\"_parent\"><img src=\"https://colab.research.google.com/assets/colab-badge.svg\" alt=\"Open In Colab\"/></a>"
      ]
    },
    {
      "cell_type": "markdown",
      "source": [
        "# For loops\n",
        "\n",
        "Metode lain yang berguna dalam bahasa pemrograman Python adalah iterator. Hal ini sangat membantu jika Anda ingin melakukan sesuatu beberapa kali.\n",
        "\n",
        "```\n",
        "print(\"Hai\")\n",
        "print(\"Hai\")\n",
        "print(\"Hai\")\n",
        "```\n",
        "\n",
        "\n",
        "Dapat dibayangkan jika kita ingin menulis kata \"Hai\" sebanyak seribu kali, tentu kode program kita akan sangat sulit untuk di baca, selain itu, kemungkinan terjadinya kesalahan sangat lah besar. Oleh karena itu, kita dapat menggunakan suatu cara yang disebut loop atau iterator. Ada dua cara untuk menjalankan perintah tersebut, yaitu dengan for atau while loop.\n"
      ],
      "metadata": {
        "id": "6Y2G3XJa1mPl"
      }
    },
    {
      "cell_type": "code",
      "source": [
        "for i in range(3):\n",
        "   print(\"Hai\")\n"
      ],
      "metadata": {
        "colab": {
          "base_uri": "https://localhost:8080/"
        },
        "id": "4D5RS0z413wj",
        "outputId": "f2aedc49-1891-41cc-df68-7690d58cde34"
      },
      "execution_count": null,
      "outputs": [
        {
          "output_type": "stream",
          "name": "stdout",
          "text": [
            "Hai\n",
            "Hai\n",
            "Hai\n"
          ]
        }
      ]
    },
    {
      "cell_type": "markdown",
      "source": [
        "Contoh lainnya jika kita ingin membuat rentang yang berbeda, maka kita dapat menggunakan range(1,3)."
      ],
      "metadata": {
        "id": "q5Eg1wr_2JVv"
      }
    },
    {
      "cell_type": "code",
      "source": [
        "for i in range(1,3):\n",
        "   print(\"Hai\")\n"
      ],
      "metadata": {
        "colab": {
          "base_uri": "https://localhost:8080/"
        },
        "id": "mGolzoW92Non",
        "outputId": "190c6b97-d4b1-4d68-ece7-bf5739b3586c"
      },
      "execution_count": null,
      "outputs": [
        {
          "output_type": "stream",
          "name": "stdout",
          "text": [
            "Hai\n",
            "Hai\n"
          ]
        }
      ]
    },
    {
      "cell_type": "markdown",
      "source": [
        "\"Hai\" hanya tercetak dua kali karena kita telah menentukan rentang dari angka 1 hingga 3. Sederhananya kita dapat mengurangi angka sebelah kanan dengan sebelah kiri.\n",
        "Kita pun dapat menambahkan perintah lain setelah loop selesai, seperti pada contoh di bawah ini:\n"
      ],
      "metadata": {
        "id": "vNylJt3-2fE4"
      }
    },
    {
      "cell_type": "code",
      "source": [
        "for i in range(3):\n",
        "  print(\"Hai\")\n",
        "else:\n",
        "  print(\"Selesai\")\n"
      ],
      "metadata": {
        "colab": {
          "base_uri": "https://localhost:8080/"
        },
        "id": "zdx-_aOm2gjk",
        "outputId": "9f6ddfba-996b-4068-e13c-0d646eb45fa0"
      },
      "execution_count": null,
      "outputs": [
        {
          "output_type": "stream",
          "name": "stdout",
          "text": [
            "Hai\n",
            "Hai\n",
            "Hai\n",
            "Selesai\n"
          ]
        }
      ]
    },
    {
      "cell_type": "markdown",
      "source": [
        "Dapat kita lihat bahwa loop telah melakukan iterasi sebanyak 3 kali ( 3 - 0 ). Setelah iterasi selesai, tahap selanjutnya adalah mengeksekusi statement else.\n",
        "Selain itu kita pun dapat melakukan nesting for loop di dalam for loop yang lain.\n"
      ],
      "metadata": {
        "id": "wrGo8g-U2moY"
      }
    },
    {
      "cell_type": "code",
      "source": [
        "for i in range(3):\n",
        "     for j in range(2):\n",
        "        print(\"loop di dalam\")\n",
        "     print(\"loop di luar\")\n"
      ],
      "metadata": {
        "colab": {
          "base_uri": "https://localhost:8080/"
        },
        "id": "CPXaVxf_2slQ",
        "outputId": "e843b377-99d5-4cae-d634-1745428a28e6"
      },
      "execution_count": null,
      "outputs": [
        {
          "output_type": "stream",
          "name": "stdout",
          "text": [
            "loop di dalam\n",
            "loop di dalam\n",
            "loop di luar\n",
            "loop di dalam\n",
            "loop di dalam\n",
            "loop di luar\n",
            "loop di dalam\n",
            "loop di dalam\n",
            "loop di luar\n"
          ]
        }
      ]
    },
    {
      "cell_type": "markdown",
      "source": [
        "Jika Anda masih bingung, semoga pernyataan ini dapat membantu:\n",
        "\n",
        "•\tPython interpreter melihat ada perintah for loop pada bagian awal. Selanjutnya membaca ke bagian bawah dan menemukan keberadaan for loop yang lain.\n",
        "\n",
        "•\tSehingga, Python akan mengesekusi\n",
        "\"loop di dalam\" sebanyak dua kali. Setelah selesai yang pertama, interpreter masih harus melakukannya dua kali lagi dari sisa \"loop di luar\" yang harus dilakukan.\n",
        "\n",
        "•\tSelanjutnya Interpreter melakukan tugas mulai lagi dari awal dan melihat for \"loop di dalam\" dan di ulangi terus hingga \"loop di luar\" selesai.\n",
        "\n",
        "\n",
        "\n",
        "Kita pun dapat memilih untuk melewati for loop pada kondisi tertentu. Maksudnya adalah setiap kali proses looping dijalankan, hingga intrepreter melihat statement pass, sehingga membuatnya tidak mengesekusi baris tersebut dan akan melanjutkan pada baris setelahnya (jika ada).\n",
        "\n",
        "\n",
        "\n",
        "\n",
        "```\n",
        "# for i in range(3):\n",
        "   pass\n",
        "\n",
        "\n",
        "```\n",
        "Anda tidak akan melihat output di sini, karena setelah pass tidak ada lagi baris kode program.\n"
      ],
      "metadata": {
        "id": "OKnZgGkk22Hq"
      }
    },
    {
      "cell_type": "markdown",
      "source": [
        "# While loops\n",
        "\n",
        "Dalam bahasa pemrograman Python, terdapat metode loop atau iterator yang lain, yaitu while loop. Kita pun dapat memberikan hasil yang sama seperti yang telah kita lakukan pada for loop dengan menggunakan while loop, seperti contoh di bawah ini:"
      ],
      "metadata": {
        "id": "hEplzUqw3cNN"
      }
    },
    {
      "cell_type": "code",
      "source": [
        "i = 0\n",
        "while i < 3:\n",
        "  print(\"Angka\", i)\n",
        "  i += 1\n"
      ],
      "metadata": {
        "colab": {
          "base_uri": "https://localhost:8080/"
        },
        "id": "pd8fCqyT3xrC",
        "outputId": "2c898f13-780c-424d-fd02-efe410984431"
      },
      "execution_count": null,
      "outputs": [
        {
          "output_type": "stream",
          "name": "stdout",
          "text": [
            "Angka 0\n",
            "Angka 1\n",
            "Angka 2\n"
          ]
        }
      ]
    },
    {
      "cell_type": "markdown",
      "source": [
        "Perlu diperhatikan bahwa, setiap kali kita menggunakan perintah while loop. Kita harus menambahkan statement increment atau statement yang dapat menghentikan loop pada titik tertentu. Jika kita tidak menggunakannya, maka proses loop akan berjalan selama nya.\n",
        "Cara lain untuk menghentikan loop adalah dengan menambahkan statement break di dalam while loop. Perintah ini akan menghentikan loop seperti pada contoh di bawah ini.\n"
      ],
      "metadata": {
        "id": "Q-zOeQQc37Z9"
      }
    },
    {
      "cell_type": "code",
      "source": [
        "i = 0\n",
        "while i < 3:\n",
        "    if i == 3:\n",
        "           break\n",
        "    print(\"Angka\", i)\n",
        "    i += 1\n"
      ],
      "metadata": {
        "colab": {
          "base_uri": "https://localhost:8080/"
        },
        "id": "j1-OoeM24CKP",
        "outputId": "c91512d2-9115-4930-b2c6-123da1b88680"
      },
      "execution_count": null,
      "outputs": [
        {
          "output_type": "stream",
          "name": "stdout",
          "text": [
            "Angka 0\n",
            "Angka 1\n",
            "Angka 2\n"
          ]
        }
      ]
    },
    {
      "cell_type": "markdown",
      "source": [
        "Di sini kita menghentikan while loop ketika intrepreter membaca nilai dari i , yaitu 4 (lebih dari 3).\n",
        "Contoh lainnya adalah dengan menambahkan statement else di dalam while loop. Statement ini akan di eksekusi setelah while loop selesai.\n"
      ],
      "metadata": {
        "id": "zv8_yeKRCq6U"
      }
    },
    {
      "cell_type": "code",
      "source": [
        "i = 0\n",
        "while i < 3:\n",
        "    print(\"Angka\", i)\n",
        "    i += 1\n",
        "else:\n",
        "    print(\"Angka lebih besar dari 2\")\n"
      ],
      "metadata": {
        "colab": {
          "base_uri": "https://localhost:8080/"
        },
        "id": "9gRSu1okCt_Z",
        "outputId": "2fdb105e-c648-4fa0-ef51-51bfc099dc2c"
      },
      "execution_count": null,
      "outputs": [
        {
          "output_type": "stream",
          "name": "stdout",
          "text": [
            "Angka 0\n",
            "Angka 1\n",
            "Angka 2\n",
            "Angka lebih besar dari 2\n"
          ]
        }
      ]
    },
    {
      "cell_type": "markdown",
      "source": [
        "Selanjutnya adalah statement continue. Statement ini dapat digunakan untuk melewati proses eksekusi yang sedang berjalan dan melanjutkan pada baris setelahnya."
      ],
      "metadata": {
        "id": "FZN5MAuMEo4c"
      }
    },
    {
      "cell_type": "code",
      "source": [
        "i = 0\n",
        "while i < 5:\n",
        "  i += 1\n",
        "  if i == 2:\n",
        "       continue\n",
        "  print(\"Angka\", i)\n"
      ],
      "metadata": {
        "colab": {
          "base_uri": "https://localhost:8080/"
        },
        "id": "MyhHNCJNEqI-",
        "outputId": "5a480912-d44a-46ef-840e-f4e60a90769d"
      },
      "execution_count": null,
      "outputs": [
        {
          "output_type": "stream",
          "name": "stdout",
          "text": [
            "Angka 1\n",
            "Angka 3\n",
            "Angka 4\n",
            "Angka 5\n"
          ]
        }
      ]
    }
  ]
}